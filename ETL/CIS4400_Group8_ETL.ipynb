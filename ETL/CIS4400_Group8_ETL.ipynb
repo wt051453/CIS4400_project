{
 "cells": [
  {
   "cell_type": "code",
   "execution_count": 1,
   "metadata": {},
   "outputs": [
    {
     "name": "stdout",
     "output_type": "stream",
     "text": [
      "Collecting pymysql\n",
      "  Using cached PyMySQL-0.10.1-py2.py3-none-any.whl (47 kB)\n",
      "Installing collected packages: pymysql\n",
      "Successfully installed pymysql-0.10.1\n",
      "Note: you may need to restart the kernel to use updated packages.\n"
     ]
    }
   ],
   "source": [
    "pip install pymysql"
   ]
  },
  {
   "cell_type": "code",
   "execution_count": 2,
   "metadata": {},
   "outputs": [],
   "source": [
    "# import python libraries\n",
    "import pymysql\n",
    "import pandas as pd\n",
    "import numpy as np"
   ]
  },
  {
   "cell_type": "code",
   "execution_count": 4,
   "metadata": {},
   "outputs": [],
   "source": [
    "parse_dates = ['date_added']\n",
    "netflix_titles = pd.read_csv('mycsvfile.csv', parse_dates=parse_dates) # using pandas to read the csv file \n",
    "netflix_titles['date_added'] = netflix_titles['date_added'].dt.strftime(\"%Y-%m-%d\") # change the date format to YYYY-MM-DD for column \"date_added\"\n",
    "fullList = netflix_titles['title'].values.tolist()\n",
    "genreList = list(set(netflix_titles['listed_in'].values.tolist())) # genre data for genre_dim table"
   ]
  },
  {
   "cell_type": "code",
   "execution_count": 5,
   "metadata": {},
   "outputs": [],
   "source": [
    "showDim = netflix_titles.drop(['date_added', 'release_year', 'rating', 'listed_in'], axis=1) # delete the columns that are not needed\n",
    "showDim = showDim.where((pd.notnull(showDim)), None) # convert empty values to \"None\" values\n",
    "showDimList = []\n",
    "for row in showDim.values.tolist():\n",
    "    showDimList.append(tuple(row)) # format data into a list of tuples before inserting to database\n",
    "\n",
    "# showDimList: show data for show_dim table"
   ]
  },
  {
   "cell_type": "code",
   "execution_count": 6,
   "metadata": {},
   "outputs": [],
   "source": [
    "netflix_origionals = pd.read_csv('netflix_originals.csv') # using pandas to read the csv file\n",
    "netflix_origionals = netflix_origionals[['Title','Seasons','Length','Netflix Exclusive Regions','Status']] # select the columns to keep\n",
    "netflix_origionals = netflix_origionals.where((pd.notnull(netflix_origionals)), None) # convert empty values to \"None\" values\n",
    "netflix_origionals.drop_duplicates(subset =\"Title\", \n",
    "                     keep = 'first', inplace = True) # delete duplicate values \n",
    "netflix_origionalsList = [tuple(l) for l in netflix_origionals.values.tolist()] # format data into a list of tuples before inserting to database\n",
    "#print(netflix_origionalsList) #: data for original_dim table"
   ]
  },
  {
   "cell_type": "code",
   "execution_count": 7,
   "metadata": {},
   "outputs": [],
   "source": [
    "netflix_stocks = pd.read_csv('NFLX.csv', parse_dates=['Date']) # using pandas to read the csv file"
   ]
  },
  {
   "cell_type": "code",
   "execution_count": 8,
   "metadata": {},
   "outputs": [],
   "source": [
    "dateDim = pd.DataFrame({'date': pd.date_range(start='2002-05-23', end='2020-08-03')}) # create a dataframe that has dates ranging from 2002-05-23 to 2020-08-03\n",
    "dateDim['date_id'] = dateDim.index + 1 # create date_id column and assign id numbers starting from 1\n",
    "dateDim['date'] = dateDim['date'].dt.strftime(\"%Y-%m-%d\") # format date column to YYYY-MM-DD\n",
    "dateDim['year'] = pd.DatetimeIndex(dateDim['date']).year # using the year information from date colunn to create year column\n",
    "dateDim = dateDim.reindex(columns=['date_id','date','year']) # re-arrange the order of columns\n",
    "#dateDim.date = pd.to_datetime(dateDim.date)\n",
    "dateDim.date_id = dateDim.date_id.astype(str) # convert data in date column to string"
   ]
  },
  {
   "cell_type": "code",
   "execution_count": 9,
   "metadata": {},
   "outputs": [],
   "source": [
    "dateDimList = [tuple(l) for l in dateDim.values.tolist()] # format data into a list of tuples before inserting to database\n",
    "# dateDimList: data for date_dim table"
   ]
  },
  {
   "cell_type": "code",
   "execution_count": 10,
   "metadata": {},
   "outputs": [],
   "source": [
    "dateDim.date = pd.to_datetime(dateDim.date) # convert data in date column to datatype date\n",
    "\n",
    "factsStockDF = pd.merge(netflix_stocks, dateDim, left_on='Date', right_on='date', how='inner') # inner join dataframes netflix_stocks and dataDim on date\n",
    "factsStockDF = factsStockDF.drop(['Date', 'date', 'year'], axis=1) # delete columns that are not needed\n",
    "factsStockDF = factsStockDF.reindex(columns=['date_id','Open','High','Low','Close','Adj Close', 'Volume']) # re-arrange the order of columns\n",
    "# factsStockDF['Date'] = factsStockDF['Date'].dt.strftime(\"%Y-%m-%d\")\n"
   ]
  },
  {
   "cell_type": "code",
   "execution_count": 11,
   "metadata": {},
   "outputs": [],
   "source": [
    "factsStockList = [tuple(l) for l in factsStockDF.values.tolist()] # format data into a list of tuples before inserting to database\n",
    "# factsStockList: data for facts_stock_prices table"
   ]
  },
  {
   "cell_type": "code",
   "execution_count": 12,
   "metadata": {},
   "outputs": [],
   "source": [
    "factsRating = pd.merge(netflix_titles, netflix_origionals, left_on='title', right_on='Title', how='left') # left join dataframes netflix_titles and netflix_originals on titles\n",
    "factsRating.date_added = pd.to_datetime(factsRating.date_added) # convert data in date_added column to datatype date"
   ]
  },
  {
   "cell_type": "code",
   "execution_count": 13,
   "metadata": {},
   "outputs": [],
   "source": [
    "factsRatingDF = pd.merge(factsRating, dateDim, left_on='date_added', right_on='date', how='left') # left join dataframes factsRating and dateDim on date_added/date"
   ]
  },
  {
   "cell_type": "code",
   "execution_count": 14,
   "metadata": {},
   "outputs": [],
   "source": [
    "factsRatingDF = factsRatingDF[['show_id','title','Title','date_id','listed_in','rating']] # select only columns needed \n",
    "# factsRatingDF['date_id'] = factsRatingDF['date_id'].astype(str)"
   ]
  },
  {
   "cell_type": "code",
   "execution_count": 15,
   "metadata": {},
   "outputs": [],
   "source": [
    "factsRatingDF = factsRatingDF.where((pd.notnull(factsRatingDF)), None) # convert empty values to \"None\" values"
   ]
  },
  {
   "cell_type": "code",
   "execution_count": 16,
   "metadata": {},
   "outputs": [],
   "source": [
    "factsRatingList = [tuple(l) for l in factsRatingDF.values.tolist()] # format data into a list of tuples before inserting to database\n",
    "#print(factsRatingList) # data for facts_IMDB_rating table"
   ]
  },
  {
   "cell_type": "code",
   "execution_count": 18,
   "metadata": {},
   "outputs": [],
   "source": [
    "# create show_dim table and insert data into it\n",
    "db = pymysql.connect(\"YOUR_DATABASE_HOST\",\"YOUR_USER_ID\",\"YOUR_PASSWORD\",\"YOUR_DATABASE_NAME\") # mysql connection credentials\n",
    "cursor = db.cursor()\n",
    "\n",
    "cursor.execute(\"DROP TABLE IF EXISTS show_dim;\") # delete the table if it already exists\n",
    "\n",
    "# create table with attributes based on the dimensional model\n",
    "createTable1 = \"\"\"CREATE TABLE show_dim(\n",
    "                 show_id INT not null,\n",
    "                 type VARCHAR(255) null,\n",
    "                 title VARCHAR(255) not null,\n",
    "                 director VARCHAR(255) null,\n",
    "                 cast MEDIUMTEXT null,\n",
    "                 country VARCHAR(255) null,\n",
    "                 duration VARCHAR(255) null,\n",
    "                 description MEDIUMTEXT null,\n",
    "                 PRIMARY KEY (show_id, title));\"\"\"\n",
    "\n",
    "cursor.execute(createTable1)\n",
    "\n",
    "insertData1 = \"INSERT INTO show_dim VALUES (%s,%s,%s,%s,%s,%s,%s,%s);\" # insert data into table\n",
    "cursor.executemany(insertData1, showDimList)\n",
    "db.commit()\n",
    "\n",
    "db.close() # close the connection to mysql"
   ]
  },
  {
   "cell_type": "code",
   "execution_count": 7,
   "metadata": {},
   "outputs": [],
   "source": [
    "# create original_dim table and insert data into it\n",
    "db = pymysql.connect(\"YOUR_DATABASE_HOST\",\"YOUR_USER_ID\",\"YOUR_PASSWORD\",\"YOUR_DATABASE_NAME\") # mysql connection credentials\n",
    "cursor = db.cursor()\n",
    "\n",
    "cursor.execute(\"DROP TABLE IF EXISTS original_dim;\") # delete the table if it already exists\n",
    "\n",
    "# create table with attributes based on the dimensional model\n",
    "createTable2 = \"\"\"CREATE TABLE original_dim(\n",
    "                  original_title VARCHAR(255) not null,\n",
    "                  seasons VARCHAR(255) null,\n",
    "                  length VARCHAR (255) null,\n",
    "                  regions VARCHAR (255) null,\n",
    "                  status VARCHAR (255) null,\n",
    "                  PRIMARY KEY (original_title));\"\"\"\n",
    "\n",
    "cursor.execute(createTable2)\n",
    "\n",
    "insertData2 = \"INSERT INTO original_dim VALUES (%s,%s,%s,%s,%s);\" # insert data into table\n",
    "cursor.executemany(insertData2, netflix_origionalsList)\n",
    "db.commit()\n",
    "\n",
    "db.close() # close the connection to mysql"
   ]
  },
  {
   "cell_type": "code",
   "execution_count": 19,
   "metadata": {},
   "outputs": [],
   "source": [
    "# create date_dim table and insert data into it\n",
    "db = pymysql.connect(\"YOUR_DATABASE_HOST\",\"YOUR_USER_ID\",\"YOUR_PASSWORD\",\"YOUR_DATABASE_NAME\") # mysql connection credentials\n",
    "cursor = db.cursor()\n",
    "\n",
    "cursor.execute(\"DROP TABLE IF EXISTS date_dim;\") # delete the table if it already exists\n",
    "\n",
    "# create table with attributes based on the dimensional model\n",
    "createTable3 = \"\"\"CREATE TABLE date_dim(\n",
    "                  date_id VARCHAR(50) not null,\n",
    "                  date DATE null,\n",
    "                  year INT null,\n",
    "                  PRIMARY KEY (date_id));\"\"\"\n",
    "\n",
    "cursor.execute(createTable3)\n",
    "\n",
    "insertData3 = \"INSERT INTO date_dim VALUES (%s,%s,%s);\" # insert data into table\n",
    "cursor.executemany(insertData3, dateDimList)\n",
    "db.commit()\n",
    "\n",
    "db.close() # close the connection to mysql"
   ]
  },
  {
   "cell_type": "code",
   "execution_count": 20,
   "metadata": {},
   "outputs": [],
   "source": [
    "# create genre_dim table and insert data into it\n",
    "db = pymysql.connect(\"YOUR_DATABASE_HOST\",\"YOUR_USER_ID\",\"YOUR_PASSWORD\",\"YOUR_DATABASE_NAME\") # mysql connection credentials\n",
    "cursor = db.cursor()\n",
    "\n",
    "cursor.execute(\"DROP TABLE IF EXISTS genre_dim;\") # delete the table if it already exists\n",
    "\n",
    "# create table with attributes based on the dimensional model\n",
    "createTable4 = \"\"\"CREATE TABLE genre_dim(\n",
    "                  listed_in VARCHAR(255) not null,\n",
    "                  PRIMARY KEY (listed_in));\"\"\"\n",
    "\n",
    "cursor.execute(createTable4)\n",
    "\n",
    "insertData4 = \"INSERT INTO genre_dim VALUES (%s);\" # insert data into table\n",
    "val = [[item] for item in genreList]\n",
    "cursor.executemany(insertData4, val)\n",
    "db.commit()\n",
    "\n",
    "db.close() # close the connection to mysql"
   ]
  },
  {
   "cell_type": "code",
   "execution_count": 23,
   "metadata": {},
   "outputs": [],
   "source": [
    "# create facts_imdb_rating table and insert data into it\n",
    "db = pymysql.connect(\"YOUR_DATABASE_HOST\",\"YOUR_USER_ID\",\"YOUR_PASSWORD\",\"YOUR_DATABASE_NAME\") # mysql connection credentials\n",
    "cursor = db.cursor()\n",
    "\n",
    "cursor.execute(\"DROP TABLE IF EXISTS facts_imdb_rating;\") # delete the table if it already exists\n",
    "\n",
    "# create table with attributes based on the dimensional model\n",
    "createTable5 = \"\"\"CREATE TABLE facts_imdb_rating(\n",
    "                  show_id INT not null,\n",
    "                  title VARCHAR(255) not null,\n",
    "                  original_title VARCHAR(255) null,\n",
    "                  date_id VARCHAR(50) null,\n",
    "                  listed_in VARCHAR(255) null,\n",
    "                  rating FLOAT null,\n",
    "                  PRIMARY KEY (show_id),\n",
    "                  FOREIGN KEY (show_id, title) REFERENCES show_dim(show_id, title),\n",
    "                  FOREIGN KEY (original_title) REFERENCES original_dim(original_title),\n",
    "                  FOREIGN KEY (date_id) REFERENCES date_dim(date_id),\n",
    "                  FOREIGN KEY (listed_in) REFERENCES genre_dim(listed_in)\n",
    "                  );\"\"\"\n",
    "\n",
    "cursor.execute(createTable5)\n",
    "\n",
    "insertData5 = \"INSERT INTO facts_imdb_rating VALUES (%s,%s,%s,%s,%s,%s);\" # insert data into table\n",
    "cursor.executemany(insertData5, factsRatingList)\n",
    "db.commit()\n",
    "\n",
    "db.close() # close the connection to mysql"
   ]
  },
  {
   "cell_type": "code",
   "execution_count": 24,
   "metadata": {},
   "outputs": [],
   "source": [
    "# create facts_stock_prices table and insert data into it\n",
    "db = pymysql.connect(\"YOUR_DATABASE_HOST\",\"YOUR_USER_ID\",\"YOUR_PASSWORD\",\"YOUR_DATABASE_NAME\") # mysql connection credentials\n",
    "cursor = db.cursor()\n",
    "\n",
    "cursor.execute(\"DROP TABLE IF EXISTS facts_stock_prices;\") # delete the table if it already exists\n",
    "\n",
    "# create table with attributes based on the dimensional model\n",
    "createTable6 = \"\"\"CREATE TABLE facts_stock_prices(\n",
    "                  date_id VARCHAR(50) not null,\n",
    "                  open FLOAT null,\n",
    "                  high FLOAT null,\n",
    "                  low FLOAT null,\n",
    "                  close FLOAT null,\n",
    "                  adj_close FLOAT null,\n",
    "                  volume FLOAT null,\n",
    "                  PRIMARY KEY (date_id),\n",
    "                  FOREIGN KEY (date_id) REFERENCES date_dim(date_id)\n",
    "                  );\"\"\"\n",
    "\n",
    "cursor.execute(createTable6)\n",
    "\n",
    "insertData6 = \"INSERT INTO facts_stock_prices VALUES (%s,%s,%s,%s,%s,%s,%s);\" # insert data into table\n",
    "cursor.executemany(insertData6, factsStockList)\n",
    "db.commit()\n",
    "\n",
    "db.close() # close the connection to mysql"
   ]
  },
  {
   "cell_type": "code",
   "execution_count": null,
   "metadata": {},
   "outputs": [],
   "source": []
  }
 ],
 "metadata": {
  "kernelspec": {
   "display_name": "Python 3",
   "language": "python",
   "name": "python3"
  },
  "language_info": {
   "codemirror_mode": {
    "name": "ipython",
    "version": 3
   },
   "file_extension": ".py",
   "mimetype": "text/x-python",
   "name": "python",
   "nbconvert_exporter": "python",
   "pygments_lexer": "ipython3",
   "version": "3.7.6"
  }
 },
 "nbformat": 4,
 "nbformat_minor": 4
}
